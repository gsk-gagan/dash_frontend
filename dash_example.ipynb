{
 "cells": [
  {
   "cell_type": "code",
   "execution_count": 1,
   "id": "b94822c1-82b9-43b7-88b2-a0ad94189448",
   "metadata": {},
   "outputs": [],
   "source": [
    "import os\n",
    "import json\n",
    "\n",
    "import pandas as pd\n",
    "import numpy as np\n",
    "\n",
    "import dash\n",
    "# from dash import Dash\n",
    "# import jupyter_dash as dash\n",
    "from jupyter_dash import JupyterDash as Dash\n",
    "import dash_bootstrap_components as dbc\n",
    "from dash import Input, Output, html, dcc\n",
    "\n",
    "import plotly\n",
    "import plotly.express as px\n",
    "import plotly.figure_factory as ff"
   ]
  },
  {
   "cell_type": "code",
   "execution_count": 2,
   "id": "b92decf7-fb1d-4dab-bf95-1edafe55d621",
   "metadata": {
    "tags": []
   },
   "outputs": [],
   "source": [
    "class DataModel:\n",
    "    # Constants\n",
    "    output_options = ['Mean issue', 'Volatility issue', 'Input data issue', 'Model issue', 'Others']\n",
    "    status_options = ['Not Validated', 'Approved', 'Denied']\n",
    "    \n",
    "    # Sidebar\n",
    "    dates = []\n",
    "    current_date = None\n",
    "    validations = []\n",
    "    current_validation = None\n",
    "    pages = []\n",
    "    path_to_pages = dict()\n",
    "    \n",
    "    # Content\n",
    "    outputs = dict()\n",
    "    \n",
    "    @classmethod\n",
    "    def get_category_outputs(cls, category):\n",
    "        return [cls.outputs[key] for key in cls.outputs if key.split(';')[0] == category]\n",
    "    \n",
    "    class Output:\n",
    "        def __init__(self, category, name, description, data, options=None, comments=None, status=None):\n",
    "            self.id = f'{category};{name}'\n",
    "            self.category = category\n",
    "            self.name = name\n",
    "            self.description = description\n",
    "            self.data = plotly.io.read_json(f'data/{DataModel.current_date}/{data}')\n",
    "            self.options = [] if options is None else options\n",
    "            self.comments = comments\n",
    "            self.status = DataModel.status_options[0] if status is None else status\n",
    "\n",
    "        def set_options(self, options):\n",
    "            self.options = options\n",
    "\n",
    "        def set_comments(self, comments):\n",
    "            self.comments = comments\n",
    "\n",
    "        def set_status(self, status):\n",
    "            self.status = status\n",
    "\n",
    "        def update(self, options, comments, status):\n",
    "            self.set_options(options)\n",
    "            self.set_comments(comments)\n",
    "            self.set_status(status)\n",
    "    \n",
    "    @classmethod\n",
    "    def refresh_dates(cls):\n",
    "        cls.dates = sorted([name for name in os.listdir('data/') if os.path.isdir(f'data/{name}')], reverse=True)\n",
    "        cls.current_date = cls.dates[0]\n",
    "    \n",
    "    @classmethod\n",
    "    def refresh_validations(cls, date):\n",
    "        cls.validations = [name[:-4] for name in os.listdir(f'data/{date}/') if name.split('.')[-1] == 'val']\n",
    "        cls.current_validation = None\n",
    "    \n",
    "    @classmethod\n",
    "    def update_output(cls, key, output):\n",
    "        cls.outputs[key] = output\n",
    "    \n",
    "    @classmethod\n",
    "    def _get_validation_data(cls, date, validation=None):\n",
    "        if validation is None:\n",
    "            dfs = [pd.read_csv(f'data/{date}/{name}') for name in os.listdir(f'data/{date}/') if name.split('.')[-1] == 'meta']\n",
    "            df = pd.concat(dfs, axis=0)\n",
    "            df = df.reindex(columns=['category', 'name', 'description', 'data', 'options', 'comments', 'status'])\n",
    "        else:\n",
    "            df = pd.read_csv(f'data/{date}/{validation}.val')\n",
    "        df.index = df[['category', 'name']].agg(';'.join, axis=1)\n",
    "        return df\n",
    "    \n",
    "    @classmethod\n",
    "    def refresh_outputs_and_pages(cls):\n",
    "        df = cls._get_validation_data(cls.current_date, cls.current_validation)\n",
    "        for key in df.index:\n",
    "            cls.update_output(key, cls.Output(**{k: None if v is np.nan else v for k, v in df.loc[key].to_dict().items()}))\n",
    "        cls.pages = list(df['category'].unique())\n",
    "        cls.path_to_pages = {p.replace(' ', '_'): p for p in cls.pages}\n",
    "        \n",
    "    @classmethod\n",
    "    def init(cls):\n",
    "        cls.refresh_dates()\n",
    "        cls.refresh_validations(cls.current_date)\n",
    "        cls.refresh_outputs_and_pages()"
   ]
  },
  {
   "cell_type": "code",
   "execution_count": 3,
   "id": "bf853f35-ee90-4d7d-9d0a-dd8fdfb8190b",
   "metadata": {
    "tags": []
   },
   "outputs": [],
   "source": [
    "DataModel.init()"
   ]
  },
  {
   "cell_type": "code",
   "execution_count": 4,
   "id": "ae58c799-5f06-4c58-98f8-ccb7fb2d29a2",
   "metadata": {
    "tags": []
   },
   "outputs": [],
   "source": [
    "class OutputComponent:\n",
    "    @staticmethod\n",
    "    def get_component(output: Output):\n",
    "        component = html.Div(children=[\n",
    "            html.H3(output.name, className=\"display-6\"),\n",
    "            dcc.Graph(figure=output.data),\n",
    "            dcc.Markdown(output.description),\n",
    "            \n",
    "            dbc.FormText(\"Issue(s):\"),\n",
    "            dcc.Dropdown(DataModel.output_options, output.options, id=f'{output.id};options', multi=True),\n",
    "            \n",
    "            dbc.FormText(\"Comments:\"),\n",
    "            dbc.Input(placeholder=\"Validation Comments\", id=f'{output.id};comments'),\n",
    "            \n",
    "            dbc.FormText(\"Validation Status:\"),\n",
    "            dcc.Dropdown(DataModel.status_options, output.status, id=f'{output.id};status'),\n",
    "            \n",
    "            dbc.Button(\"Primary\", color=\"primary\", className=\"me-1\", id=f'{output.id};button'),\n",
    "            html.Hr()\n",
    "        ])\n",
    "    \n",
    "        @app.callback(Output('Placeholder', 'children'), \n",
    "                      Input(f'{output.id};button', 'n_clicks'))\n",
    "                      # *[Input(f'{output.id};{c}', 'value') for c in ['options', 'comments', 'status']])\n",
    "        def save_updates(n_clicks):\n",
    "            if n_clicks is not None:\n",
    "                return \"Something works\"\n",
    "            # return \"Entered\"\n",
    "            # ctx = dash.callback_context\n",
    "            # if ctx.triggered:\n",
    "            #     id_ = ';'.join(ctx.triggered[0]['prop_id'].split(';')[:-1])\n",
    "            #     DataModel.outputs[id_].update(options, comments, status)\n",
    "            #     return f\"ctx was triggered\"\n",
    "            # else:\n",
    "            #     return \"ctx not triggered\"\n",
    "            \n",
    "        return component"
   ]
  },
  {
   "cell_type": "code",
   "execution_count": 5,
   "id": "32c6c43f-3f44-4319-8d65-3291b5bf5ef6",
   "metadata": {
    "tags": []
   },
   "outputs": [],
   "source": [
    "class SideBar:\n",
    "    SIDEBAR_STYLE = {\n",
    "        \"position\": \"fixed\",\n",
    "        \"top\": 0,\n",
    "        \"left\": 0,\n",
    "        \"bottom\": 0,\n",
    "        \"width\": \"16rem\",\n",
    "        \"padding\": \"2rem 1rem\",\n",
    "        \"background-color\": \"#f8f9fa\",\n",
    "    }\n",
    "    \n",
    "    def __init__(self):\n",
    "        date_validation_selection = [                \n",
    "            html.H4(\"Options\"),\n",
    "            dbc.FormText(\"Date:\"),\n",
    "            dcc.Dropdown(DataModel.dates, DataModel.current_date, id='SideBar;dates'),\n",
    "            dbc.FormText(\"Validation:\"),\n",
    "            dcc.Dropdown(DataModel.validations, DataModel.current_validation, id='SideBar;validations'),         \n",
    "            dbc.FormText(\"Submit:\"),\n",
    "            html.Div(dbc.Button(\"Submit\", color=\"primary\"), className=\"d-grid gap-2\")\n",
    "        ]\n",
    "        \n",
    "        pages = [\n",
    "            html.H4(\"Pages\"),\n",
    "            dbc.Nav(\n",
    "                [\n",
    "                    dbc.NavLink(\"Home\", href=\"/\", active=\"exact\"),\n",
    "                    *[dbc.NavLink(v, href=f\"/{k}\", active=\"exact\") for k, v in DataModel.path_to_pages.items()]\n",
    "                ],\n",
    "                vertical=True,\n",
    "                pills=True,\n",
    "            )\n",
    "        ]\n",
    "        \n",
    "        self.sidebar = html.Div(\n",
    "            [   \n",
    "                *date_validation_selection,\n",
    "                html.Hr(),\n",
    "                *pages\n",
    "            ],\n",
    "            style=SideBar.SIDEBAR_STYLE,\n",
    "        )\n",
    "        \n",
    "        @app.callback(Output('Placeholder', 'children'), \n",
    "                      Input('SideBar;dates', 'value'), \n",
    "                      Input('SideBar;validations', 'value'))\n",
    "        def update_date(date, validation):\n",
    "            DataModel.current_date = date\n",
    "            DataModel.current_validation = validation\n",
    "            # return f\"Changed Dates to {date}\"\n",
    "    \n",
    "    def get_sidebar(self):\n",
    "        return self.sidebar"
   ]
  },
  {
   "cell_type": "code",
   "execution_count": 6,
   "id": "11265e65-bb19-4ee5-87b9-24b05a832f14",
   "metadata": {},
   "outputs": [],
   "source": [
    "class MainPage:\n",
    "    PAGE_STYLE = {\n",
    "        \"margin-left\": \"16rem\",\n",
    "        \"padding\": \"2rem\",\n",
    "    }\n",
    "    def __init__(self):\n",
    "        self.page = html.Div(\n",
    "            dbc.Container([\n",
    "                html.Div(id='Placeholder'),\n",
    "                html.H1(\"Validation App\", className=\"display-3\"),\n",
    "                html.P(\"Frontend for oneModel Demo\", className=\"lead\"),\n",
    "                html.Hr(className=\"my-2\"),\n",
    "                html.Div(id=\"page-content\")\n",
    "            ]),\n",
    "            style=MainPage.PAGE_STYLE\n",
    "        )\n",
    "        \n",
    "    def get_page(self):\n",
    "        return self.page"
   ]
  },
  {
   "cell_type": "code",
   "execution_count": 7,
   "id": "e0d342a5-26ab-4786-8557-dfac00a86c96",
   "metadata": {},
   "outputs": [],
   "source": [
    "app = Dash(__name__, external_stylesheets=[dbc.themes.LUX])\n",
    "sb = SideBar().get_sidebar()\n",
    "mp = MainPage().get_page()\n",
    "content = html.Div([dcc.Location(id=\"url\"), sb, mp])"
   ]
  },
  {
   "cell_type": "code",
   "execution_count": 8,
   "id": "4cab6d4d-c38a-485e-baf0-642a94b7c778",
   "metadata": {},
   "outputs": [],
   "source": [
    "app.layout = content"
   ]
  },
  {
   "cell_type": "code",
   "execution_count": 9,
   "id": "8181dac2-5ba6-46fd-a0e7-78f90f89de20",
   "metadata": {},
   "outputs": [],
   "source": [
    "@app.callback(Output(\"page-content\", \"children\"), [Input(\"url\", \"pathname\")])\n",
    "def render_page_content(pathname):\n",
    "    if pathname == \"/\":\n",
    "        return html.P(\"This is the content of the home page!\")\n",
    "    \n",
    "    category = DataModel.path_to_pages[pathname[1:]]\n",
    "    category_outputs = DataModel.get_category_outputs(category)\n",
    "    if len(category_outputs) != 0:\n",
    "        return [OutputComponent.get_component(o) for o in category_outputs]\n",
    "    \n",
    "    # If the user tries to reach a different page, return a 404 message\n",
    "    return html.Div(\n",
    "        [\n",
    "            html.H1(\"404: Not found\", className=\"text-danger\"),\n",
    "            html.Hr(),\n",
    "            html.P(f\"The pathname {pathname} was not recognised...\"),\n",
    "        ]\n",
    "    )"
   ]
  },
  {
   "cell_type": "code",
   "execution_count": 10,
   "id": "6fab69b3-8f64-49b2-9fec-43a9e871ccb2",
   "metadata": {},
   "outputs": [
    {
     "data": {
      "text/plain": [
       "'20220307'"
      ]
     },
     "execution_count": 10,
     "metadata": {},
     "output_type": "execute_result"
    }
   ],
   "source": [
    "DataModel.current_date"
   ]
  },
  {
   "cell_type": "code",
   "execution_count": 11,
   "id": "d4a89ded-9806-4003-a41d-c33817ed5242",
   "metadata": {
    "tags": []
   },
   "outputs": [
    {
     "data": {
      "text/html": [
       "\n",
       "        <iframe\n",
       "            width=\"100%\"\n",
       "            height=\"650\"\n",
       "            src=\"http://127.0.0.1:8050/\"\n",
       "            frameborder=\"0\"\n",
       "            allowfullscreen\n",
       "            \n",
       "        ></iframe>\n",
       "        "
      ],
      "text/plain": [
       "<IPython.lib.display.IFrame at 0x7f9e50bca910>"
      ]
     },
     "metadata": {},
     "output_type": "display_data"
    }
   ],
   "source": [
    "app.run_server(mode=\"inline\", debug=True)"
   ]
  },
  {
   "cell_type": "code",
   "execution_count": null,
   "id": "737aaa19-4525-48e5-9431-512e914ce038",
   "metadata": {},
   "outputs": [],
   "source": []
  },
  {
   "cell_type": "code",
   "execution_count": null,
   "id": "98b0546d-e83c-4006-800b-1bf98870c33a",
   "metadata": {},
   "outputs": [],
   "source": []
  }
 ],
 "metadata": {
  "kernelspec": {
   "display_name": "Python 3 (ipykernel)",
   "language": "python",
   "name": "python3"
  },
  "language_info": {
   "codemirror_mode": {
    "name": "ipython",
    "version": 3
   },
   "file_extension": ".py",
   "mimetype": "text/x-python",
   "name": "python",
   "nbconvert_exporter": "python",
   "pygments_lexer": "ipython3",
   "version": "3.9.7"
  }
 },
 "nbformat": 4,
 "nbformat_minor": 5
}
